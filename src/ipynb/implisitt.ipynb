{
 "cells": [
  {
   "cell_type": "code",
   "execution_count": 1,
   "metadata": {},
   "outputs": [],
   "source": [
    "#desperat forsøk på implisitt 2d poisson\n",
    "import numpy as np\n",
    "import matplotlib.pyplot as plt\n",
    "import imageio\n",
    "from scipy.sparse import spdiags\n",
    "from scipy.sparse.linalg import spsolve\n",
    "\n",
    "file= '../../hdr-bilder/Balls/Balls_00032.png'\n",
    "u=imageio.imread(file)\n",
    "#u = np.sum(u.astype(float),2) /(3*255)   # konverter til gråtone\n",
    "u = u.astype(float) / 255\n",
    "\n",
    "u[u<0]=0\n",
    "u[u>1]=1\n",
    "\n",
    "alpha = 0.45    #dt/dx**2\n",
    "\n",
    "\n",
    "#lager diagonalmatrise\n",
    "size=u.shape[0]*u.shape[1]\n",
    "\n",
    "nupper = np.concatenate((np.zeros(u.shape[1]), -alpha * np.ones(size - u.shape[1])))\n",
    "upper = np.concatenate(([0, 0], -alpha * np.ones(size - 2)))\n",
    "center = np.concatenate(([1], (1 + 4 * alpha) * np.ones(size - 2), [1]))\n",
    "lower = np.concatenate((-alpha * np.ones(size - 2), [0, 0]))\n",
    "nlower = np.concatenate((-alpha * np.ones(size - u.shape[1]), np.zeros(u.shape[1])))\n",
    "diags = np.array([nupper, upper, center, lower, nlower])\n",
    "A = spdiags(diags, [u.shape[1], 1, 0, -1, -u.shape[1]], size, size).tocsc()\n",
    "\n",
    "\n",
    "x=np.copy(u)\n",
    "for i in range (u.shape[2]):\n",
    "    x[:,:,i]=spsolve(A,x[:,:,i].flatten()).reshape(u[:,:,i].shape)\n",
    "    x[:, 0,] = x[:, 1]      # Neumann randbetingelse\n",
    "    x[:, -1] = x[:, -2]    #\n",
    "    x[0, :] = x[1, :]      #\n",
    "    x[-1, :] = x[-2 , :]   #\n",
    "    \n",
    "plt.figure()\n",
    "plt.imshow(x)\n",
    "plt.show()\n",
    "        "
   ]
  },
  {
   "cell_type": "code",
   "execution_count": null,
   "metadata": {},
   "outputs": [],
   "source": []
  },
  {
   "cell_type": "code",
   "execution_count": null,
   "metadata": {},
   "outputs": [],
   "source": []
  }
 ],
 "metadata": {
  "kernelspec": {
   "display_name": "Python 3",
   "language": "python",
   "name": "python3"
  },
  "language_info": {
   "codemirror_mode": {
    "name": "ipython",
    "version": 3
   },
   "file_extension": ".py",
   "mimetype": "text/x-python",
   "name": "python",
   "nbconvert_exporter": "python",
   "pygments_lexer": "ipython3",
   "version": "3.6.9-final"
  }
 },
 "nbformat": 4,
 "nbformat_minor": 2
}