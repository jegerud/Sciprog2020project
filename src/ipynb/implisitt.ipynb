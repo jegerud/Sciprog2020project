{
 "cells": [
  {
   "cell_type": "code",
   "execution_count": 32,
   "metadata": {},
   "outputs": [
    {
     "name": "stdout",
     "output_type": "stream",
     "text": [
      "(784000, 784000)\n"
     ]
    },
    {
     "ename": "ValueError",
     "evalue": "matrix - rhs dimension mismatch ((784000, 784000) - 1000)",
     "output_type": "error",
     "traceback": [
      "\u001b[1;31m---------------------------------------------------------------------------\u001b[0m",
      "\u001b[1;31mValueError\u001b[0m                                Traceback (most recent call last)",
      "\u001b[1;32m<ipython-input-32-4809ff5fedfb>\u001b[0m in \u001b[0;36m<module>\u001b[1;34m\u001b[0m\n\u001b[0;32m     30\u001b[0m \u001b[0mprint\u001b[0m\u001b[1;33m(\u001b[0m\u001b[0mA\u001b[0m\u001b[1;33m.\u001b[0m\u001b[0mshape\u001b[0m\u001b[1;33m)\u001b[0m\u001b[1;33m\u001b[0m\u001b[1;33m\u001b[0m\u001b[0m\n\u001b[0;32m     31\u001b[0m \u001b[1;32mfor\u001b[0m \u001b[0mn\u001b[0m \u001b[1;32min\u001b[0m \u001b[0mrange\u001b[0m\u001b[1;33m(\u001b[0m\u001b[0mu\u001b[0m\u001b[1;33m.\u001b[0m\u001b[0mshape\u001b[0m\u001b[1;33m[\u001b[0m\u001b[1;36m0\u001b[0m\u001b[1;33m]\u001b[0m\u001b[1;33m-\u001b[0m\u001b[1;36m1\u001b[0m\u001b[1;33m)\u001b[0m\u001b[1;33m:\u001b[0m\u001b[1;33m\u001b[0m\u001b[1;33m\u001b[0m\u001b[0m\n\u001b[1;32m---> 32\u001b[1;33m     \u001b[0mu\u001b[0m\u001b[1;33m[\u001b[0m\u001b[0mn\u001b[0m\u001b[1;33m+\u001b[0m\u001b[1;36m1\u001b[0m\u001b[1;33m,\u001b[0m \u001b[1;33m:\u001b[0m\u001b[1;33m]\u001b[0m\u001b[1;33m=\u001b[0m\u001b[0mspsolve\u001b[0m\u001b[1;33m(\u001b[0m\u001b[0mA\u001b[0m\u001b[1;33m,\u001b[0m \u001b[0mu\u001b[0m\u001b[1;33m[\u001b[0m\u001b[0mn\u001b[0m\u001b[1;33m,\u001b[0m \u001b[1;33m:\u001b[0m\u001b[1;33m]\u001b[0m\u001b[1;33m)\u001b[0m\u001b[1;33m\u001b[0m\u001b[1;33m\u001b[0m\u001b[0m\n\u001b[0m\u001b[0;32m     33\u001b[0m \u001b[1;33m\u001b[0m\u001b[0m\n\u001b[0;32m     34\u001b[0m     \u001b[0mu\u001b[0m\u001b[1;33m[\u001b[0m\u001b[1;33m:\u001b[0m\u001b[1;33m,\u001b[0m \u001b[1;36m0\u001b[0m\u001b[1;33m,\u001b[0m\u001b[1;33m]\u001b[0m \u001b[1;33m=\u001b[0m \u001b[0mu\u001b[0m\u001b[1;33m[\u001b[0m\u001b[1;33m:\u001b[0m\u001b[1;33m,\u001b[0m \u001b[1;36m1\u001b[0m\u001b[1;33m]\u001b[0m      \u001b[1;31m# Neumann randbetingelse\u001b[0m\u001b[1;33m\u001b[0m\u001b[1;33m\u001b[0m\u001b[0m\n",
      "\u001b[1;32m~\\Anaconda3\\lib\\site-packages\\scipy\\sparse\\linalg\\dsolve\\linsolve.py\u001b[0m in \u001b[0;36mspsolve\u001b[1;34m(A, b, permc_spec, use_umfpack)\u001b[0m\n\u001b[0;32m    155\u001b[0m     \u001b[1;32mif\u001b[0m \u001b[0mM\u001b[0m \u001b[1;33m!=\u001b[0m \u001b[0mb\u001b[0m\u001b[1;33m.\u001b[0m\u001b[0mshape\u001b[0m\u001b[1;33m[\u001b[0m\u001b[1;36m0\u001b[0m\u001b[1;33m]\u001b[0m\u001b[1;33m:\u001b[0m\u001b[1;33m\u001b[0m\u001b[1;33m\u001b[0m\u001b[0m\n\u001b[0;32m    156\u001b[0m         raise ValueError(\"matrix - rhs dimension mismatch (%s - %s)\"\n\u001b[1;32m--> 157\u001b[1;33m                          % (A.shape, b.shape[0]))\n\u001b[0m\u001b[0;32m    158\u001b[0m \u001b[1;33m\u001b[0m\u001b[0m\n\u001b[0;32m    159\u001b[0m     \u001b[0muse_umfpack\u001b[0m \u001b[1;33m=\u001b[0m \u001b[0muse_umfpack\u001b[0m \u001b[1;32mand\u001b[0m \u001b[0museUmfpack\u001b[0m\u001b[1;33m\u001b[0m\u001b[1;33m\u001b[0m\u001b[0m\n",
      "\u001b[1;31mValueError\u001b[0m: matrix - rhs dimension mismatch ((784000, 784000) - 1000)"
     ]
    }
   ],
   "source": [
    "#desperat forsøk på implisitt 2d poisson\n",
    "import numpy as np\n",
    "import matplotlib.pyplot as plt\n",
    "import imageio\n",
    "from scipy.sparse import spdiags\n",
    "from scipy.sparse.linalg import spsolve\n",
    "\n",
    "file= '../../hdr-bilder/Balls/Balls_00032.png'\n",
    "u=imageio.imread(file)\n",
    "u = np.sum(u.astype(float),2) /(3*255)   # konverter til gråtone\n",
    "#u = u.astype(float) / 255\n",
    "\n",
    "u[u<0]=0\n",
    "u[u>1]=1\n",
    "\n",
    "alpha = 0.45    #dt/dx**2\n",
    "\n",
    "\n",
    "\n",
    "#lager diagonalmatrise\n",
    "size=u.shape[0]*u.shape[1]\n",
    "\n",
    "nupper = np.concatenate((np.zeros(u.shape[1]), -alpha * np.ones(size - u.shape[1])))\n",
    "upper = np.concatenate(([0, 0], -alpha * np.ones(size - 2)))\n",
    "center = np.concatenate(([1], (1 + 4 * alpha) * np.ones(size - 2), [1]))\n",
    "lower = np.concatenate((-alpha * np.ones(size - 2), [0, 0]))\n",
    "nlower = np.concatenate((-alpha * np.ones(size - u.shape[1]), np.zeros(u.shape[1])))\n",
    "diags = np.array([nupper, upper, center, lower, nlower])\n",
    "A = spdiags(diags, [u.shape[1], 1, 0, -1, -u.shape[1]], size, size).tocsc()\n",
    "print(A.shape)\n",
    "for n in range(u.shape[0]-1):\n",
    "    u[n+1, :]=spsolve(A, u[n, :])\n",
    "        \n",
    "    u[:, 0,] = u[:, 1]      # Neumann randbetingelse\n",
    "    u[:, -1] = u[:, -2]    #\n",
    "    u[0, :] = u[1, :]      #\n",
    "    u[-1, :] = u[-2 , :]   #\n",
    "    \n",
    "#plt.figure()\n",
    "#plt.imshow(u,plt.cm.gray)\n",
    "#plt.imshow(u)\n"
   ]
  },
  {
   "cell_type": "code",
   "execution_count": null,
   "metadata": {},
   "outputs": [],
   "source": []
  },
  {
   "cell_type": "code",
   "execution_count": null,
   "metadata": {},
   "outputs": [],
   "source": []
  }
 ],
 "metadata": {
  "kernelspec": {
   "display_name": "Python 3",
   "language": "python",
   "name": "python3"
  },
  "language_info": {
   "codemirror_mode": {
    "name": "ipython",
    "version": 3
   },
   "file_extension": ".py",
   "mimetype": "text/x-python",
   "name": "python",
   "nbconvert_exporter": "python",
   "pygments_lexer": "ipython3",
   "version": "3.7.3"
  }
 },
 "nbformat": 4,
 "nbformat_minor": 2
}
