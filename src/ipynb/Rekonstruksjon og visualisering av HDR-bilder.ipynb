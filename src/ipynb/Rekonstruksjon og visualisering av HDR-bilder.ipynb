{
 "cells": [
  {
   "cell_type": "code",
   "execution_count": 56,
   "metadata": {},
   "outputs": [],
   "source": [
    "import cv2\n",
    "import matplotlib.pyplot as plt\n",
    "import numpy as np\n",
    "\n",
    "im = ['../../hdr-bilder/MtTamNorth/MtTamNorth_00512.png',\n",
    "              '../../hdr-bilder/MtTamNorth/MtTamNorth_00256.png',\n",
    "              '../../hdr-bilder/MtTamNorth/MtTamNorth_00128.png',\n",
    "              '../../hdr-bilder/MtTamNorth/MtTamNorth_00064.png',\n",
    "              '../../hdr-bilder/MtTamNorth/MtTamNorth_00032.png',\n",
    "              '../../hdr-bilder/MtTamNorth/MtTamNorth_00016.png',\n",
    "              '../../hdr-bilder/MtTamNorth/MtTamNorth_00008.png',\n",
    "              '../../hdr-bilder/MtTamNorth/MtTamNorth_00004.png',\n",
    "              '../../hdr-bilder/MtTamNorth/MtTamNorth_00002.png',\n",
    "              '../../hdr-bilder/MtTamNorth/MtTamNorth_00001.png']\n",
    "exp = [512,256,128,64,32,16,8,4,2,1]\n",
    "\n",
    "def saveHDR(paths, exp):\n",
    "    times = np.array(exp,dtype = np.float32)\n",
    "    filenames = paths\n",
    "    images = []\n",
    "    for filename in filenames:\n",
    "        im = cv2.imread(filename)\n",
    "        images.append(im)\n",
    "    \n",
    "    alignMTB = cv2.createAlignMTB()\n",
    "    alignMTB.process(images, images)\n",
    "    \n",
    "    calibrateDebevec = cv2.createCalibrateDebevec()\n",
    "    responseDebevec = calibrateDebevec.process(images, times)\n",
    "    \n",
    "    mergeDebevec = cv2.createMergeDebevec()\n",
    "    hdrDebevec = mergeDebevec.process(images, times, responseDebevec)\n",
    "    cv2.imwrite(\"MyMtTamNorth.exr\", hdrDebevec)\n"
   ]
  },
  {
   "cell_type": "code",
   "execution_count": 57,
   "metadata": {},
   "outputs": [],
   "source": [
    "loadExposures(im,exp)"
   ]
  }
 ],
 "metadata": {
  "kernelspec": {
   "display_name": "Python 3",
   "language": "python",
   "name": "python3"
  },
  "language_info": {
   "codemirror_mode": {
    "name": "ipython",
    "version": 3
   },
   "file_extension": ".py",
   "mimetype": "text/x-python",
   "name": "python",
   "nbconvert_exporter": "python",
   "pygments_lexer": "ipython3",
   "version": "3.7.6"
  }
 },
 "nbformat": 4,
 "nbformat_minor": 4
}
