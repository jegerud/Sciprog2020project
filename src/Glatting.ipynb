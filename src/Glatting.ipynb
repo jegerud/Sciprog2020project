{
 "cells": [
  {
   "cell_type": "code",
   "execution_count": 11,
   "metadata": {
    "scrolled": true
   },
   "outputs": [],
   "source": [
    "import numpy as np\n",
    "import matplotlib.pyplot as plt\n",
    "import imageio\n",
    "import eksplisitt as eks\n",
    "import ImageView as imv\n",
    "\n",
    "Tree_00032   = '..\\hdr-bilder\\Tree\\Tree_00032.png'\n",
    "Balls_00032  = '..\\hdr-bilder\\Balls\\Balls_00032.png'\n",
    "\n",
    "def glattingBW(fil):\n",
    "    orig_image = imageio.imread(fil)\n",
    "    BW = np.sum(orig_image.astype(float),2)/(3*255)           #gråtone\n",
    "    image = imageio.imread(fil)\n",
    "    \n",
    "    image = np.sum(image.astype(float),2)/(3*255)             #gråtone\n",
    "    image = image + .05 * np.random.randn(* np.shape(image))  #legg på tilfeldig støy\n",
    "    \n",
    "    image[image < 0] = 0                                      #klipp til lovlige verdier\n",
    "    image[image > 1] = 1\n",
    "    \n",
    "    image = eks.eksplisitt(image, n = 8)\n",
    "    image[:, 0] = image[:, 1]      # Neumann randbetingelse\n",
    "    image[:, -1] = image[:, -2]    #\n",
    "    image[0, :] = image[1, :]      #\n",
    "    image[-1, :] = image[-2 , :]   #\n",
    "    \n",
    "    imv.viewBW(orig_image, BW, image, \"Glatting\") #Displayer bildene ved siden av hverandre"
   ]
  },
  {
   "cell_type": "code",
   "execution_count": 12,
   "metadata": {
    "scrolled": true
   },
   "outputs": [
    {
     "ename": "AttributeError",
     "evalue": "module 'ImageView' has no attribute 'viewBW'",
     "output_type": "error",
     "traceback": [
      "\u001b[1;31m---------------------------------------------------------------------------\u001b[0m",
      "\u001b[1;31mAttributeError\u001b[0m                            Traceback (most recent call last)",
      "\u001b[1;32m<ipython-input-12-5767429ff394>\u001b[0m in \u001b[0;36m<module>\u001b[1;34m\u001b[0m\n\u001b[1;32m----> 1\u001b[1;33m \u001b[0mglattingBW\u001b[0m\u001b[1;33m(\u001b[0m\u001b[0mBalls_00032\u001b[0m\u001b[1;33m)\u001b[0m\u001b[1;33m\u001b[0m\u001b[1;33m\u001b[0m\u001b[0m\n\u001b[0m",
      "\u001b[1;32m<ipython-input-11-f1cd783c1955>\u001b[0m in \u001b[0;36mglattingBW\u001b[1;34m(fil)\u001b[0m\n\u001b[0;32m     25\u001b[0m     \u001b[0mimage\u001b[0m\u001b[1;33m[\u001b[0m\u001b[1;33m-\u001b[0m\u001b[1;36m1\u001b[0m\u001b[1;33m,\u001b[0m \u001b[1;33m:\u001b[0m\u001b[1;33m]\u001b[0m \u001b[1;33m=\u001b[0m \u001b[0mimage\u001b[0m\u001b[1;33m[\u001b[0m\u001b[1;33m-\u001b[0m\u001b[1;36m2\u001b[0m \u001b[1;33m,\u001b[0m \u001b[1;33m:\u001b[0m\u001b[1;33m]\u001b[0m   \u001b[1;31m#\u001b[0m\u001b[1;33m\u001b[0m\u001b[1;33m\u001b[0m\u001b[0m\n\u001b[0;32m     26\u001b[0m \u001b[1;33m\u001b[0m\u001b[0m\n\u001b[1;32m---> 27\u001b[1;33m     \u001b[0mimv\u001b[0m\u001b[1;33m.\u001b[0m\u001b[0mviewBW\u001b[0m\u001b[1;33m(\u001b[0m\u001b[0morig_image\u001b[0m\u001b[1;33m,\u001b[0m \u001b[0mBW\u001b[0m\u001b[1;33m,\u001b[0m \u001b[0mimage\u001b[0m\u001b[1;33m,\u001b[0m \u001b[1;34m\"Glatting\"\u001b[0m\u001b[1;33m)\u001b[0m \u001b[1;31m#Displayer bildene ved siden av hverandre\u001b[0m\u001b[1;33m\u001b[0m\u001b[1;33m\u001b[0m\u001b[0m\n\u001b[0m",
      "\u001b[1;31mAttributeError\u001b[0m: module 'ImageView' has no attribute 'viewBW'"
     ]
    }
   ],
   "source": [
    "glattingBW(Balls_00032)"
   ]
  },
  {
   "cell_type": "code",
   "execution_count": 13,
   "metadata": {},
   "outputs": [
    {
     "ename": "AttributeError",
     "evalue": "module 'ImageView' has no attribute 'viewBW'",
     "output_type": "error",
     "traceback": [
      "\u001b[1;31m---------------------------------------------------------------------------\u001b[0m",
      "\u001b[1;31mAttributeError\u001b[0m                            Traceback (most recent call last)",
      "\u001b[1;32m<ipython-input-13-500b3c543466>\u001b[0m in \u001b[0;36m<module>\u001b[1;34m\u001b[0m\n\u001b[1;32m----> 1\u001b[1;33m \u001b[0mglattingBW\u001b[0m\u001b[1;33m(\u001b[0m\u001b[0mTree_00032\u001b[0m\u001b[1;33m)\u001b[0m\u001b[1;33m\u001b[0m\u001b[1;33m\u001b[0m\u001b[0m\n\u001b[0m",
      "\u001b[1;32m<ipython-input-11-f1cd783c1955>\u001b[0m in \u001b[0;36mglattingBW\u001b[1;34m(fil)\u001b[0m\n\u001b[0;32m     25\u001b[0m     \u001b[0mimage\u001b[0m\u001b[1;33m[\u001b[0m\u001b[1;33m-\u001b[0m\u001b[1;36m1\u001b[0m\u001b[1;33m,\u001b[0m \u001b[1;33m:\u001b[0m\u001b[1;33m]\u001b[0m \u001b[1;33m=\u001b[0m \u001b[0mimage\u001b[0m\u001b[1;33m[\u001b[0m\u001b[1;33m-\u001b[0m\u001b[1;36m2\u001b[0m \u001b[1;33m,\u001b[0m \u001b[1;33m:\u001b[0m\u001b[1;33m]\u001b[0m   \u001b[1;31m#\u001b[0m\u001b[1;33m\u001b[0m\u001b[1;33m\u001b[0m\u001b[0m\n\u001b[0;32m     26\u001b[0m \u001b[1;33m\u001b[0m\u001b[0m\n\u001b[1;32m---> 27\u001b[1;33m     \u001b[0mimv\u001b[0m\u001b[1;33m.\u001b[0m\u001b[0mviewBW\u001b[0m\u001b[1;33m(\u001b[0m\u001b[0morig_image\u001b[0m\u001b[1;33m,\u001b[0m \u001b[0mBW\u001b[0m\u001b[1;33m,\u001b[0m \u001b[0mimage\u001b[0m\u001b[1;33m,\u001b[0m \u001b[1;34m\"Glatting\"\u001b[0m\u001b[1;33m)\u001b[0m \u001b[1;31m#Displayer bildene ved siden av hverandre\u001b[0m\u001b[1;33m\u001b[0m\u001b[1;33m\u001b[0m\u001b[0m\n\u001b[0m",
      "\u001b[1;31mAttributeError\u001b[0m: module 'ImageView' has no attribute 'viewBW'"
     ]
    }
   ],
   "source": [
    "glattingBW(Tree_00032)"
   ]
  },
  {
   "cell_type": "code",
   "execution_count": null,
   "metadata": {},
   "outputs": [],
   "source": []
  }
 ],
 "metadata": {
  "kernelspec": {
   "display_name": "Python 3",
   "language": "python",
   "name": "python3"
  },
  "language_info": {
   "codemirror_mode": {
    "name": "ipython",
    "version": 3
   },
   "file_extension": ".py",
   "mimetype": "text/x-python",
   "name": "python",
   "nbconvert_exporter": "python",
   "pygments_lexer": "ipython3",
   "version": "3.7.4"
  }
 },
 "nbformat": 4,
 "nbformat_minor": 2
}
