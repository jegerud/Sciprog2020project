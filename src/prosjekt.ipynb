{
 "cells": [
  {
   "cell_type": "markdown",
   "metadata": {},
   "source": [
    "Eksplisitt skjema:\n",
    "\\begin{align}\n",
    "  u^{n+1}_{i,j} =  u^n_{i,j} + \\frac{\\Delta t}{\\Delta x^2}\n",
    "                                               (u^n_{i+1,j} +\n",
    "                                               u^n_{i-1,j} +\n",
    "                                               u^n_{i,j+1} +\n",
    "                                               u^n_{i,j-1} -4 \n",
    "                                               u^n_{i,j}) - \\Delta th_{i,j}\n",
    "\\end{align}\n",
    "\n",
    "Setter $\\alpha =\\frac{\\Delta t}{\\Delta x^2}$\n",
    "\n",
    "$$\n",
    "\\Rightarrow \\begin{align}\n",
    "  u^{n+1}_{i,j} =  u^n_{i,j} + \\alpha\n",
    "                                               (u^n_{i+1,j} +\n",
    "                                               u^n_{i-1,j} +\n",
    "                                               u^n_{i,j+1} +\n",
    "                                               u^n_{i,j-1} -4 \n",
    "                                               u^n_{i,j}) - \\Delta th_{i,j}\n",
    "\\end{align}\n",
    "$$\n"
   ]
  },
  {
   "cell_type": "code",
   "execution_count": 6,
   "metadata": {},
   "outputs": [],
   "source": [
    "import numpy as np\n",
    "u=np.ones((70, 100))\n",
    "alpha=0.25\n",
    "N=1000\n",
    "for i in range(N):\n",
    "    u[1:-1, 1:-1]+=alpha*(u[:-2, 1:-1]+\n",
    "                          u[2:, 1:-1]+\n",
    "                          u[1:-1, :-2]+\n",
    "                          u[1:-1, 2:]-\n",
    "                          4*u[1:-1, 1:-1])"
   ]
  },
  {
   "cell_type": "code",
   "execution_count": null,
   "metadata": {},
   "outputs": [],
   "source": []
  }
 ],
 "metadata": {
  "kernelspec": {
   "display_name": "Python 3",
   "language": "python",
   "name": "python3"
  },
  "language_info": {
   "codemirror_mode": {
    "name": "ipython",
    "version": 3
   },
   "file_extension": ".py",
   "mimetype": "text/x-python",
   "name": "python",
   "nbconvert_exporter": "python",
   "pygments_lexer": "ipython3",
   "version": "3.7.3"
  }
 },
 "nbformat": 4,
 "nbformat_minor": 2
}
