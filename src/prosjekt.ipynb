{
 "cells": [
  {
   "cell_type": "code",
   "execution_count": 15,
   "metadata": {},
   "outputs": [],
   "source": [
    "# Importerer\n",
    "import numpy as np\n",
    "import matplotlib.pyplot as plt\n",
    "import imageio"
   ]
  },
  {
   "cell_type": "markdown",
   "metadata": {},
   "source": [
    "Eksplisitt skjema:\n",
    "\\begin{align}\n",
    "  u^{n+1}_{i,j} =  u^n_{i,j} + \\frac{\\Delta t}{\\Delta x^2}\n",
    "                                               (u^n_{i+1,j} +\n",
    "                                               u^n_{i-1,j} +\n",
    "                                               u^n_{i,j+1} +\n",
    "                                               u^n_{i,j-1} -4 \n",
    "                                               u^n_{i,j}) - \\Delta th_{i,j}\n",
    "\\end{align}\n",
    "\n",
    "Setter $\\alpha =\\frac{\\Delta t}{\\Delta x^2}$\n",
    "\n",
    "$$\n",
    "\\Rightarrow \\begin{align}\n",
    "  u^{n+1}_{i,j} =  u^n_{i,j} + \\alpha\n",
    "                                               (u^n_{i+1,j} +\n",
    "                                               u^n_{i-1,j} +\n",
    "                                               u^n_{i,j+1} +\n",
    "                                               u^n_{i,j-1} -4 \n",
    "                                               u^n_{i,j}) - \\Delta th_{i,j}\n",
    "\\end{align}\n",
    "$$\n"
   ]
  },
  {
   "cell_type": "code",
   "execution_count": 6,
   "metadata": {},
   "outputs": [],
   "source": [
    "u=np.ones((70, 100))\n",
    "alpha=0.25\n",
    "N=1000\n",
    "for i in range(N):\n",
    "    u[1:-1, 1:-1]+=alpha*(u[:-2, 1:-1]+\n",
    "                          u[2:, 1:-1]+\n",
    "                          u[1:-1, :-2]+\n",
    "                          u[1:-1, 2:]-\n",
    "                          4*u[1:-1, 1:-1])"
   ]
  },
  {
   "cell_type": "code",
   "execution_count": 84,
   "metadata": {},
   "outputs": [
    {
     "name": "stdout",
     "output_type": "stream",
     "text": [
      "(784, 1000, 3) uint8 0 255\n"
     ]
    },
    {
     "ename": "TypeError",
     "evalue": "object of type 'int' has no len()",
     "output_type": "error",
     "traceback": [
      "\u001b[1;31m---------------------------------------------------------------------------\u001b[0m",
      "\u001b[1;31mTypeError\u001b[0m                                 Traceback (most recent call last)",
      "\u001b[1;32m<ipython-input-84-b7ebb1f32d30>\u001b[0m in \u001b[0;36m<module>\u001b[1;34m\u001b[0m\n\u001b[0;32m     23\u001b[0m     \u001b[0mgrey_im\u001b[0m\u001b[1;33m[\u001b[0m\u001b[1;33m-\u001b[0m\u001b[1;36m1\u001b[0m\u001b[1;33m,\u001b[0m \u001b[1;33m:\u001b[0m\u001b[1;33m]\u001b[0m \u001b[1;33m=\u001b[0m \u001b[0mgrey_im\u001b[0m\u001b[1;33m[\u001b[0m\u001b[1;33m-\u001b[0m\u001b[1;36m2\u001b[0m \u001b[1;33m,\u001b[0m \u001b[1;33m:\u001b[0m\u001b[1;33m]\u001b[0m   \u001b[1;31m#\u001b[0m\u001b[1;33m\u001b[0m\u001b[1;33m\u001b[0m\u001b[0m\n\u001b[0;32m     24\u001b[0m \u001b[1;33m\u001b[0m\u001b[0m\n\u001b[1;32m---> 25\u001b[1;33m \u001b[1;32mfor\u001b[0m \u001b[0mi\u001b[0m \u001b[1;32min\u001b[0m \u001b[0mrange\u001b[0m\u001b[1;33m(\u001b[0m\u001b[0mlen\u001b[0m\u001b[1;33m(\u001b[0m\u001b[0mgrey_im\u001b[0m\u001b[1;33m.\u001b[0m\u001b[0mshape\u001b[0m\u001b[1;33m[\u001b[0m\u001b[1;36m0\u001b[0m\u001b[1;33m]\u001b[0m\u001b[1;33m)\u001b[0m\u001b[1;33m)\u001b[0m\u001b[1;33m:\u001b[0m\u001b[1;33m\u001b[0m\u001b[1;33m\u001b[0m\u001b[0m\n\u001b[0m\u001b[0;32m     26\u001b[0m     \u001b[1;32mfor\u001b[0m \u001b[0mj\u001b[0m \u001b[1;32min\u001b[0m \u001b[0mrange\u001b[0m\u001b[1;33m(\u001b[0m\u001b[0mlen\u001b[0m\u001b[1;33m(\u001b[0m\u001b[0mgrey_im\u001b[0m\u001b[1;33m.\u001b[0m\u001b[0mshape\u001b[0m\u001b[1;33m[\u001b[0m\u001b[1;36m1\u001b[0m\u001b[1;33m]\u001b[0m\u001b[1;33m)\u001b[0m\u001b[1;33m)\u001b[0m\u001b[1;33m:\u001b[0m\u001b[1;33m\u001b[0m\u001b[1;33m\u001b[0m\u001b[0m\n\u001b[0;32m     27\u001b[0m         \u001b[1;32mif\u001b[0m \u001b[0mgrey_im\u001b[0m\u001b[1;33m[\u001b[0m\u001b[0mi\u001b[0m\u001b[1;33m]\u001b[0m\u001b[1;33m[\u001b[0m\u001b[0mj\u001b[0m\u001b[1;33m]\u001b[0m \u001b[1;33m>\u001b[0m \u001b[1;36m1\u001b[0m\u001b[1;33m:\u001b[0m\u001b[1;33m\u001b[0m\u001b[1;33m\u001b[0m\u001b[0m\n",
      "\u001b[1;31mTypeError\u001b[0m: object of type 'int' has no len()"
     ]
    }
   ],
   "source": [
    "orig_im = imageio.imread('..\\hdr-bilder\\Balls\\Balls_00032.png') \n",
    "grey_im =  orig_im.astype(float).sum(2) / (255 * 3)\n",
    "orig_grey_im = orig_im.astype(float).sum(2) / (255 * 3)\n",
    "\n",
    "alpha = .25                     # dt / dx**2\n",
    "k = 1.2\n",
    "for i in range(10):\n",
    "    laplace = (grey_im[0:-2, 1:-1] +\n",
    "               grey_im[2:, 1:-1] +\n",
    "               grey_im[1:-1, 0:-2] +\n",
    "               grey_im[1:-1, 2:] -\n",
    "               4 * grey_im[1:-1, 1:-1])\n",
    "    const = k * (grey_im[0:-2, 1:-1] +\n",
    "               grey_im[2:, 1:-1] +\n",
    "               grey_im[1:-1, 0:-2] +\n",
    "               grey_im[1:-1, 2:] -\n",
    "               4 * grey_im[1:-1, 1:-1])\n",
    "    grey_im[1:-1, 1:-1] += (alpha * laplace - alpha * const)\n",
    "    grey_im[:, 0] = grey_im[:, 1]      # Neumann randbetingelse\n",
    "    grey_im[:, -1] = grey_im[:, -2]    #\n",
    "    grey_im[0, :] = grey_im[1, :]      #\n",
    "    grey_im[-1, :] = grey_im[-2 , :]   #\n",
    "\n",
    "for i in range(len(grey_im)):\n",
    "    for j in range(len(grey_im[0])):\n",
    "        if grey_im[i][j] > 1:\n",
    "            grey_im[i][j] = 1\n",
    "        elif grey_im[i][j] < 0:\n",
    "            grey_im[i][j] = 0\n",
    "    \n",
    "plt.imshow(grey_im, plt.cm.gray)\n",
    "plt.show()\n",
    "plt.imshow(orig_grey_im, plt.cm.gray)"
   ]
  },
  {
   "cell_type": "code",
   "execution_count": 79,
   "metadata": {},
   "outputs": [
    {
     "name": "stdout",
     "output_type": "stream",
     "text": [
      "[[1, 1, 0], [1, 1, 0], [1, 1, 1]]\n"
     ]
    }
   ],
   "source": [
    "a = [[2, 1, -1], [2, 2, -3], [3, 1, 1]]\n",
    "\n",
    "for i in range(3):\n",
    "    for j in range(3):\n",
    "        if a[i][j] > 1:\n",
    "            a[i][j] = 1\n",
    "        elif a[i][j] < 0:\n",
    "            a[i][j] = 0\n",
    "            \n",
    "print(a)"
   ]
  },
  {
   "cell_type": "code",
   "execution_count": null,
   "metadata": {},
   "outputs": [],
   "source": []
  }
 ],
 "metadata": {
  "kernelspec": {
   "display_name": "Python 3",
   "language": "python",
   "name": "python3"
  },
  "language_info": {
   "codemirror_mode": {
    "name": "ipython",
    "version": 3
   },
   "file_extension": ".py",
   "mimetype": "text/x-python",
   "name": "python",
   "nbconvert_exporter": "python",
   "pygments_lexer": "ipython3",
   "version": "3.7.4"
  }
 },
 "nbformat": 4,
 "nbformat_minor": 2
}
