{
 "cells": [
  {
   "cell_type": "code",
   "execution_count": 2,
   "metadata": {},
   "outputs": [],
   "source": [
    "# Importerer\n",
    "import numpy as np\n",
    "import matplotlib.pyplot as plt\n",
    "import imageio"
   ]
  },
  {
   "cell_type": "markdown",
   "metadata": {},
   "source": [
    "Eksplisitt skjema:\n",
    "\\begin{align}\n",
    "  u^{n+1}_{i,j} =  u^n_{i,j} + \\frac{\\Delta t}{\\Delta x^2}\n",
    "                                               (u^n_{i+1,j} +\n",
    "                                               u^n_{i-1,j} +\n",
    "                                               u^n_{i,j+1} +\n",
    "                                               u^n_{i,j-1} -4 \n",
    "                                               u^n_{i,j}) - \\Delta th_{i,j}\n",
    "\\end{align}\n",
    "\n",
    "Setter $\\alpha =\\frac{\\Delta t}{\\Delta x^2}$\n",
    "\n",
    "$$\n",
    "\\Rightarrow \\begin{align}\n",
    "  u^{n+1}_{i,j} =  u^n_{i,j} + \\alpha\n",
    "                                               (u^n_{i+1,j} +\n",
    "                                               u^n_{i-1,j} +\n",
    "                                               u^n_{i,j+1} +\n",
    "                                               u^n_{i,j-1} -4 \n",
    "                                               u^n_{i,j}) - \\Delta th_{i,j}\n",
    "\\end{align}\n",
    "$$\n"
   ]
  },
  {
   "cell_type": "code",
   "execution_count": 6,
   "metadata": {},
   "outputs": [],
   "source": [
    "u=np.ones((70, 100))\n",
    "alpha=0.25\n",
    "N=1000\n",
    "for i in range(N):\n",
    "    u[1:-1, 1:-1]+=alpha*(u[:-2, 1:-1]+\n",
    "                          u[2:, 1:-1]+\n",
    "                          u[1:-1, :-2]+\n",
    "                          u[1:-1, 2:]-\n",
    "                          4*u[1:-1, 1:-1])"
   ]
  },
  {
   "cell_type": "code",
   "execution_count": 54,
   "metadata": {},
   "outputs": [],
   "source": [
    "def constrast(file, k):\n",
    "    orig_im = imageio.imread('..\\hdr-bilder\\MtTamWest\\MtTamWest_00064.png') \n",
    "    print(orig_im.shape, orig_im.dtype, orig_im.min(), orig_im.max())\n",
    "    grey_im =  orig_im.astype(float).sum(2) / (255 * 3)\n",
    "    orig_grey_im = orig_im.astype(float).sum(2) / (255 * 3)\n",
    "\n",
    "    alpha = .25                     # dt / dx**2\n",
    "    k = 1.08\n",
    "    for i in range(10):\n",
    "        laplace = (grey_im[0:-2, 1:-1] +\n",
    "            grey_im[2:, 1:-1] +\n",
    "            grey_im[1:-1, 0:-2] +\n",
    "            grey_im[1:-1, 2:] -\n",
    "            4 * grey_im[1:-1, 1:-1])\n",
    "        const = k * (grey_im[0:-2, 1:-1] +\n",
    "            grey_im[2:, 1:-1] +\n",
    "            grey_im[1:-1, 0:-2] +\n",
    "            grey_im[1:-1, 2:] -\n",
    "           4 * grey_im[1:-1, 1:-1])\n",
    "        grey_im[1:-1, 1:-1] += (alpha * laplace)\n",
    "        grey_im[1:-1, 1:-1] -= (alpha * const)\n",
    "        grey_im[:, 0] = grey_im[:, 1]      # Neumann randbetingelse\n",
    "        grey_im[:, -1] = grey_im[:, -2]    #\n",
    "        grey_im[0, :] = grey_im[1, :]      #\n",
    "        grey_im[-1, :] = grey_im[-2 , :]   #\n",
    "\n",
    "    for i in range(732):\n",
    "        for j in range(1214):\n",
    "            if grey_im[i][j] > 0.9:\n",
    "                grey_im[i][j] = 0.9\n",
    "            elif grey_im[i][j] < 0:\n",
    "                grey_im[i][j] = 0\n",
    "\n",
    "    plt.imshow(grey_im, plt.cm.gray)\n",
    "    plt.show()\n",
    "    plt.imshow(orig_grey_im, plt.cm.gray)"
   ]
  },
  {
   "cell_type": "code",
   "execution_count": null,
   "metadata": {},
   "outputs": [],
   "source": [
    "filepath = \"..\\hdr-bilder\\MtTamWest\\MtTamWest_00064.png\"\n",
    "constant = 0."
   ]
  }
 ],
 "metadata": {
  "kernelspec": {
   "display_name": "Python 3",
   "language": "python",
   "name": "python3"
  },
  "language_info": {
   "codemirror_mode": {
    "name": "ipython",
    "version": 3
   },
   "file_extension": ".py",
   "mimetype": "text/x-python",
   "name": "python",
   "nbconvert_exporter": "python",
   "pygments_lexer": "ipython3",
   "version": "3.7.4"
  }
 },
 "nbformat": 4,
 "nbformat_minor": 2
}
