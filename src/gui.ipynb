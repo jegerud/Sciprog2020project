{
 "cells": [
  {
   "cell_type": "code",
   "execution_count": 2,
   "metadata": {},
   "outputs": [
    {
     "ename": "SystemExit",
     "evalue": "0",
     "output_type": "error",
     "traceback": [
      "An exception has occurred, use %tb to see the full traceback.\n",
      "\u001b[1;31mSystemExit\u001b[0m\u001b[1;31m:\u001b[0m 0\n"
     ]
    },
    {
     "name": "stderr",
     "output_type": "stream",
     "text": [
      "C:\\Users\\Anders\\Anaconda3\\lib\\site-packages\\IPython\\core\\interactiveshell.py:3333: UserWarning: To exit: use 'exit', 'quit', or Ctrl-D.\n",
      "  warn(\"To exit: use 'exit', 'quit', or Ctrl-D.\", stacklevel=1)\n"
     ]
    }
   ],
   "source": [
    "from PyQt5 import QtWidgets\n",
    "from PyQt5.QtWidgets import QApplication, QMainWindow\n",
    "import sys\n",
    "\n",
    "def window():\n",
    "    app=QApplication(sys.argv)\n",
    "    win=QMainWindow()\n",
    "    win.setGeometry(200, 200, 300, 300)\n",
    "    win.setWindowTitle(\"flott gui\")\n",
    "    \n",
    "    label=QtWidgets.QLabel(win)\n",
    "    label.setText(\"label1\")\n",
    "    label.move(50,50)\n",
    "    \n",
    "    win.show()\n",
    "    sys.exit(app.exec_())\n",
    "    \n",
    "window()"
   ]
  },
  {
   "cell_type": "code",
   "execution_count": null,
   "metadata": {},
   "outputs": [],
   "source": []
  }
 ],
 "metadata": {
  "kernelspec": {
   "display_name": "Python 3",
   "language": "python",
   "name": "python3"
  },
  "language_info": {
   "codemirror_mode": {
    "name": "ipython",
    "version": 3
   },
   "file_extension": ".py",
   "mimetype": "text/x-python",
   "name": "python",
   "nbconvert_exporter": "python",
   "pygments_lexer": "ipython3",
   "version": "3.7.3"
  }
 },
 "nbformat": 4,
 "nbformat_minor": 2
}
