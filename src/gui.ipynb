{
 "cells": [
  {
   "cell_type": "code",
   "execution_count": 2,
   "metadata": {},
   "outputs": [
    {
     "ename": "SystemExit",
     "evalue": "0",
     "output_type": "error",
     "traceback": [
      "An exception has occurred, use %tb to see the full traceback.\n",
      "\u001b[1;31mSystemExit\u001b[0m\u001b[1;31m:\u001b[0m 0\n"
     ]
    }
   ],
   "source": [
    "from PyQt5 import QtWidgets\n",
    "from PyQt5.QtWidgets import QApplication, QMainWindow\n",
    "import sys\n",
    "\n",
    "class MyWindow(QMainWindow):\n",
    "    def __init__(self):\n",
    "        super(MyWindow, self).__init__()\n",
    "        self.setGeometry(200, 200, 300, 300)\n",
    "        self.setWindowTitle(\"flott gui\")\n",
    "        self.initUI()\n",
    "    \n",
    "    def initUI(self):\n",
    "        #label\n",
    "        self.label=QtWidgets.QLabel(self)\n",
    "        self.label.setText(\"label1\")\n",
    "        self.label.move(50,50)\n",
    "    \n",
    "        #button\n",
    "        self.b1=QtWidgets.QPushButton(self)\n",
    "        self.b1.setText(\"click me\")\n",
    "        self.b1.clicked.connect(self.clicked)\n",
    "        \n",
    "    def clicked(self):\n",
    "        self.label.setText(\"pressed\")\n",
    "        self.update()\n",
    "    \n",
    "    def update(self):\n",
    "        self.label.adjustSize()\n",
    "\n",
    "def window():\n",
    "    app=QApplication(sys.argv)\n",
    "    win=MyWindow()\n",
    "    \n",
    "    \n",
    "    \n",
    "    win.show()\n",
    "    sys.exit(app.exec_())\n",
    "    \n",
    "window()"
   ]
  },
  {
   "cell_type": "code",
   "execution_count": null,
   "metadata": {},
   "outputs": [],
   "source": []
  }
 ],
 "metadata": {
  "kernelspec": {
   "display_name": "Python 3",
   "language": "python",
   "name": "python3"
  },
  "language_info": {
   "codemirror_mode": {
    "name": "ipython",
    "version": 3
   },
   "file_extension": ".py",
   "mimetype": "text/x-python",
   "name": "python",
   "nbconvert_exporter": "python",
   "pygments_lexer": "ipython3",
   "version": "3.7.3"
  }
 },
 "nbformat": 4,
 "nbformat_minor": 2
}
